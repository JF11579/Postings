{
  "nbformat": 4,
  "nbformat_minor": 0,
  "metadata": {
    "colab": {
      "provenance": [],
      "authorship_tag": "ABX9TyOAKsu4JDHou32X9F1tqQD0",
      "include_colab_link": true
    },
    "kernelspec": {
      "name": "python3",
      "display_name": "Python 3"
    },
    "language_info": {
      "name": "python"
    }
  },
  "cells": [
    {
      "cell_type": "markdown",
      "metadata": {
        "id": "view-in-github",
        "colab_type": "text"
      },
      "source": [
        "<a href=\"https://colab.research.google.com/github/JF11579/Postings/blob/main/comparing_splits/Comparing_Splits_1.ipynb\" target=\"_parent\"><img src=\"https://colab.research.google.com/assets/colab-badge.svg\" alt=\"Open In Colab\"/></a>"
      ]
    },
    {
      "cell_type": "markdown",
      "source": [
        "# Notes"
      ],
      "metadata": {
        "id": "-ns5ZXJRyAW3"
      }
    },
    {
      "cell_type": "markdown",
      "source": [
        "### I wish I could get all of Nassau County, NY MLS sales data but at 500 houses at a downlaod the job is just too slow. In stead I asked google Bard which 5 towns had the least expensive, the most expensive , and were closes to the median ( 760k)."
      ],
      "metadata": {
        "id": "gfBIEZQkyDnq"
      }
    },
    {
      "cell_type": "code",
      "execution_count": null,
      "metadata": {
        "id": "2p4IvcUWx7V_"
      },
      "outputs": [],
      "source": []
    }
  ]
}